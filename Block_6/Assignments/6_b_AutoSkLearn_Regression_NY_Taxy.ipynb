{
 "cells": [
  {
   "cell_type": "markdown",
   "metadata": {},
   "source": [
    "# Block 6 Exercise 2: finding the best parameters for predicting the fare of taxi rides\n",
    "We return to our Random Forest Regression and want to automatically optimize all free parameters ..."
   ]
  },
  {
   "cell_type": "code",
   "execution_count": 1,
   "metadata": {},
   "outputs": [],
   "source": [
    "import pandas as pd\n",
    "import numpy as np\n",
    "import folium\n"
   ]
  },
  {
   "cell_type": "code",
   "execution_count": 2,
   "metadata": {},
   "outputs": [],
   "source": [
    "# we load the data we have saved after wrangling and pre-processing in block I\n",
    "X=pd.read_csv('../../DATA/train_cleaned.csv')\n",
    "drop_columns=['Unnamed: 0','Unnamed: 0.1','Unnamed: 0.1.1','key','pickup_datetime','pickup_date','pickup_latitude_round3','pickup_longitude_round3','dropoff_latitude_round3','dropoff_longitude_round3']\n",
    "X=X.drop(drop_columns,axis=1)\n",
    "X=pd.get_dummies(X)# one hot coding\n",
    "#generate labels\n",
    "y=X['fare_amount']\n",
    "X=X.drop(['fare_amount'],axis=1)"
   ]
  },
  {
   "cell_type": "markdown",
   "metadata": {},
   "source": [
    "### Scikit Optimize\n",
    "Scikit Optimize (https://scikit-optimize.github.io/stable/index.html) is a AutoML toolbox wrapped around Scikit-Learn. It allows us to use state-of-the-art automatic hyper-parameter optimization on top of our learning algorithms.   \n",
    "\n"
   ]
  },
  {
   "cell_type": "code",
   "execution_count": 3,
   "metadata": {},
   "outputs": [
    {
     "name": "stdout",
     "output_type": "stream",
     "text": [
      "Requirement already satisfied: scikit-optimize in c:\\users\\robin\\anaconda3\\lib\\site-packages (0.8.1)\n",
      "Requirement already satisfied: pyaml>=16.9 in c:\\users\\robin\\anaconda3\\lib\\site-packages (from scikit-optimize) (20.4.0)\n",
      "Requirement already satisfied: scikit-learn>=0.20.0 in c:\\users\\robin\\anaconda3\\lib\\site-packages (from scikit-optimize) (0.23.2)\n",
      "Requirement already satisfied: scipy>=0.19.1 in c:\\users\\robin\\anaconda3\\lib\\site-packages (from scikit-optimize) (1.6.2)\n",
      "Requirement already satisfied: joblib>=0.11 in c:\\users\\robin\\anaconda3\\lib\\site-packages (from scikit-optimize) (1.0.1)\n",
      "Requirement already satisfied: numpy>=1.13.3 in c:\\users\\robin\\anaconda3\\lib\\site-packages (from scikit-optimize) (1.18.5)\n",
      "Requirement already satisfied: PyYAML in c:\\users\\robin\\anaconda3\\lib\\site-packages (from pyaml>=16.9->scikit-optimize) (5.4.1)\n",
      "Requirement already satisfied: threadpoolctl>=2.0.0 in c:\\users\\robin\\anaconda3\\lib\\site-packages (from scikit-learn>=0.20.0->scikit-optimize) (2.1.0)\n"
     ]
    }
   ],
   "source": [
    "# install \n",
    "!pip install scikit-optimize"
   ]
  },
  {
   "cell_type": "markdown",
   "metadata": {},
   "source": [
    "### E 2.1 Bayesian Optimization of a Random Forest Regression Model\n",
    "use Bayesian Optimization with Cross-Validation (https://scikit-optimize.github.io/stable/modules/generated/skopt.BayesSearchCV.html#skopt.BayesSearchCV) to find the best regression model. Compare\n",
    "* linear regression (https://scikit-learn.org/stable/modules/generated/sklearn.linear_model.LinearRegression.html#sklearn.linear_model.LinearRegression) \n",
    "* Random Forest regression (https://scikit-learn.org/stable/modules/generated/sklearn.ensemble.RandomForestRegressor.html#sklearn.ensemble.RandomForestRegressor)\n",
    "* and SVM regression (https://scikit-learn.org/stable/modules/generated/sklearn.svm.SVR.html#sklearn.svm.SVR)\n",
    "\n",
    "NOTES: this can become quite compute intensive! Hence,\n",
    "* use a smaller subset of the training data to run the experiments \n",
    "* think about the range of your parameters (e.g. larger number of trees in RF or high C-values in SMV will make models expensive)\n",
    "* optimize only the following parameters per model type:\n",
    "    * linear: no parameters to optimize\n",
    "    * RF: #trees and depth\n",
    "    * SVM: C and gamma (use RBF kernel)\n",
    "* parallelize -> n_jobs\n",
    "* use CoLab to rum the job for up to 12h \n"
   ]
  },
  {
   "cell_type": "code",
   "execution_count": 4,
   "metadata": {},
   "outputs": [
    {
     "name": "stdout",
     "output_type": "stream",
     "text": [
      "X:  (400000, 31)\n",
      "y:  (400000,)\n"
     ]
    }
   ],
   "source": [
    "print('X: ',np.shape(X))\n",
    "print('y: ',np.shape(y))"
   ]
  },
  {
   "cell_type": "code",
   "execution_count": 9,
   "metadata": {},
   "outputs": [
    {
     "name": "stdout",
     "output_type": "stream",
     "text": [
      "X:  (3000, 31)\n",
      "y:  (3000,)\n"
     ]
    }
   ],
   "source": [
    "X_cut = X[:3000]\n",
    "y_cut = y[:3000]\n",
    "\n",
    "print('X: ',np.shape(X_cut))\n",
    "print('y: ',np.shape(y_cut))"
   ]
  },
  {
   "cell_type": "markdown",
   "metadata": {},
   "source": [
    "### preload"
   ]
  },
  {
   "cell_type": "code",
   "execution_count": 10,
   "metadata": {},
   "outputs": [],
   "source": [
    "from sklearn.model_selection import train_test_split\n",
    "from sklearn.linear_model import LinearRegression\n",
    "from skopt import BayesSearchCV\n",
    "from sklearn.ensemble import RandomForestRegressor\n",
    "from sklearn.datasets import make_regression\n",
    "from skopt.space import Real, Categorical, Integer\n",
    "from sklearn.datasets import load_iris\n",
    "from sklearn.svm import SVR\n",
    "from sklearn.pipeline import make_pipeline\n",
    "from sklearn.preprocessing import StandardScaler\n",
    "\n",
    "\n",
    "X_train, X_test, y_train, y_test = train_test_split(X_cut, y_cut ,test_size = 0.1, random_state=42)"
   ]
  },
  {
   "cell_type": "markdown",
   "metadata": {},
   "source": [
    "### linear regression"
   ]
  },
  {
   "cell_type": "code",
   "execution_count": 11,
   "metadata": {},
   "outputs": [
    {
     "name": "stdout",
     "output_type": "stream",
     "text": [
      "Train socre:  0.7857188744561222\n",
      "Test socre:  0.7829911081690426\n",
      "Wall time: 20 ms\n"
     ]
    }
   ],
   "source": [
    "%%time\n",
    "reg = LinearRegression().fit(X_train, y_train)\n",
    "\n",
    "print('Train socre: ', reg.score(X_train, y_train))\n",
    "print('Test socre: ', reg.score(X_test, y_test))"
   ]
  },
  {
   "cell_type": "markdown",
   "metadata": {},
   "source": [
    "### Random Forest regression"
   ]
  },
  {
   "cell_type": "code",
   "execution_count": 12,
   "metadata": {},
   "outputs": [
    {
     "name": "stdout",
     "output_type": "stream",
     "text": [
      "BayesSearchCV(estimator=RandomForestRegressor(), n_jobs=-1, random_state=42,\n",
      "              search_spaces={'max_depth': Integer(low=2, high=1000, prior='uniform', transform='identity'),\n",
      "                             'n_estimators': Integer(low=1, high=1000, prior='uniform', transform='identity')})\n",
      "---Best Score---\n",
      "0.7240056477411404\n",
      "\n",
      "---Best Parameter---\n",
      "OrderedDict([('max_depth', 6), ('n_estimators', 818)])\n",
      "Wall time: 11min 55s\n"
     ]
    }
   ],
   "source": [
    "%%time\n",
    "opt = BayesSearchCV(RandomForestRegressor(),\n",
    "     {\n",
    "         'n_estimators': Integer(1,1000),\n",
    "         'max_depth': Integer(2,1000),\n",
    "     },\n",
    "     n_iter=50,\n",
    "     random_state=42,\n",
    "     n_jobs=-1)\n",
    "\n",
    "# executes bayesian optimization\n",
    "print(opt.fit(X_train, y_train))\n",
    "\n",
    "# model can be saved, used for predictions or scoring\n",
    "#print(opt.score(X_train, y_train))\n",
    "print('---Best Score---')\n",
    "print(opt.best_score_)\n",
    "print('\\n---Best Parameter---')\n",
    "print(opt.best_params_)"
   ]
  },
  {
   "cell_type": "markdown",
   "metadata": {},
   "source": [
    "### SVM"
   ]
  },
  {
   "cell_type": "code",
   "execution_count": 13,
   "metadata": {},
   "outputs": [
    {
     "name": "stdout",
     "output_type": "stream",
     "text": [
      "Wall time: 0 ns\n"
     ]
    },
    {
     "data": {
      "text/plain": [
       "dict_keys(['memory', 'steps', 'verbose', 'standardscaler', 'svr', 'standardscaler__copy', 'standardscaler__with_mean', 'standardscaler__with_std', 'svr__C', 'svr__cache_size', 'svr__coef0', 'svr__degree', 'svr__epsilon', 'svr__gamma', 'svr__kernel', 'svr__max_iter', 'svr__shrinking', 'svr__tol', 'svr__verbose'])"
      ]
     },
     "execution_count": 13,
     "metadata": {},
     "output_type": "execute_result"
    }
   ],
   "source": [
    "%%time\n",
    "regr_pip = make_pipeline(StandardScaler(),SVR(kernel='rbf')) \n",
    "\n",
    "regr_pip.get_params().keys()"
   ]
  },
  {
   "cell_type": "code",
   "execution_count": null,
   "metadata": {},
   "outputs": [],
   "source": [
    "%%time\n",
    "opt = BayesSearchCV(estimator=regr_pip,search_spaces =\n",
    "     {\n",
    "         'svr__C': Real(0.001,100),\n",
    "         'svr__gamma': Categorical(['scale', 'auto']),\n",
    "     },\n",
    "     n_iter=50,\n",
    "     random_state=42,\n",
    "     n_jobs=-1\n",
    "     )\n",
    "\n",
    "opt.fit(X_train, y_train)\n",
    "\n",
    "#print(regr.score(X_test, y_test))\n",
    "print('---Best Score---')\n",
    "print(opt.best_score_)\n",
    "print('\\n---Best Parameter---')\n",
    "print(opt.best_params_)"
   ]
  },
  {
   "cell_type": "code",
   "execution_count": null,
   "metadata": {},
   "outputs": [],
   "source": []
  }
 ],
 "metadata": {
  "kernelspec": {
   "display_name": "Python 3",
   "language": "python",
   "name": "python3"
  },
  "language_info": {
   "codemirror_mode": {
    "name": "ipython",
    "version": 3
   },
   "file_extension": ".py",
   "mimetype": "text/x-python",
   "name": "python",
   "nbconvert_exporter": "python",
   "pygments_lexer": "ipython3",
   "version": "3.8.5"
  }
 },
 "nbformat": 4,
 "nbformat_minor": 4
}
