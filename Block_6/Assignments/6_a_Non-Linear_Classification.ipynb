{
 "cells": [
  {
   "cell_type": "markdown",
   "metadata": {},
   "source": [
    "# Block 6 Exercise 1: Non-Linear Classification"
   ]
  },
  {
   "cell_type": "markdown",
   "metadata": {},
   "source": [
    "## MNIST Data\n",
    "We return to the MNIST data set on handwritten digits to compare non-linear classification algorithms ...   "
   ]
  },
  {
   "cell_type": "code",
   "execution_count": 1,
   "metadata": {},
   "outputs": [],
   "source": [
    "#imports \n",
    "import matplotlib.pyplot as plt\n",
    "import numpy as np\n",
    "from sklearn.datasets import fetch_openml"
   ]
  },
  {
   "cell_type": "code",
   "execution_count": 2,
   "metadata": {},
   "outputs": [],
   "source": [
    "# Load data from https://www.openml.org/d/554\n",
    "X, y = fetch_openml('mnist_784', version=1, return_X_y=True)\n"
   ]
  },
  {
   "cell_type": "code",
   "execution_count": 3,
   "metadata": {},
   "outputs": [
    {
     "data": {
      "text/plain": [
       "pandas.core.frame.DataFrame"
      ]
     },
     "execution_count": 3,
     "metadata": {},
     "output_type": "execute_result"
    }
   ],
   "source": [
    "type(X)"
   ]
  },
  {
   "cell_type": "code",
   "execution_count": 4,
   "metadata": {},
   "outputs": [
    {
     "data": {
      "text/plain": [
       "numpy.ndarray"
      ]
     },
     "execution_count": 4,
     "metadata": {},
     "output_type": "execute_result"
    }
   ],
   "source": [
    "# X von dataframe zu Array konvertieren, da er meinnt er muss es anderst runterladen...\n",
    "X = X.to_numpy()\n",
    "y = y.to_numpy()\n",
    "type(X)"
   ]
  },
  {
   "cell_type": "code",
   "execution_count": 5,
   "metadata": {},
   "outputs": [
    {
     "data": {
      "text/plain": [
       "(70000, 784)"
      ]
     },
     "execution_count": 5,
     "metadata": {},
     "output_type": "execute_result"
    }
   ],
   "source": [
    "#the full MNIST data set contains 70k samples of digits 0-9 as 28*28 gray scale images (represented as 784 dim vectors)\n",
    "np.shape(X)"
   ]
  },
  {
   "cell_type": "code",
   "execution_count": 6,
   "metadata": {},
   "outputs": [
    {
     "data": {
      "text/plain": [
       "0.0"
      ]
     },
     "execution_count": 6,
     "metadata": {},
     "output_type": "execute_result"
    }
   ],
   "source": [
    "X.min()"
   ]
  },
  {
   "cell_type": "code",
   "execution_count": 7,
   "metadata": {},
   "outputs": [
    {
     "data": {
      "text/plain": [
       "255.0"
      ]
     },
     "execution_count": 7,
     "metadata": {},
     "output_type": "execute_result"
    }
   ],
   "source": [
    "#look at max/min value in the data\n",
    "X.max()"
   ]
  },
  {
   "cell_type": "markdown",
   "metadata": {},
   "source": [
    "### E1.1: Cross-Validation and Support Vector Machines\n",
    "Train and optimize  C-SVM classifier on MNIST (https://scikit-learn.org/stable/modules/generated/sklearn.svm.SVC.html#sklearn.svm.SVC)\n",
    "* use a RBF kernel\n",
    "* use *random search* with cross-validation to find the best settings for *gamma* and *C* (https://scikit-learn.org/stable/modules/generated/sklearn.model_selection.RandomizedSearchCV.html#sklearn.model_selection.RandomizedSearchCV)"
   ]
  },
  {
   "cell_type": "code",
   "execution_count": 8,
   "metadata": {},
   "outputs": [],
   "source": [
    "from sklearn.pipeline import make_pipeline\n",
    "from sklearn.preprocessing import StandardScaler\n",
    "from sklearn.svm import SVC\n",
    "from sklearn.model_selection import train_test_split\n",
    "from sklearn.metrics import accuracy_score"
   ]
  },
  {
   "cell_type": "code",
   "execution_count": 9,
   "metadata": {},
   "outputs": [],
   "source": [
    "X_train, X_test, y_train, y_test = train_test_split(X, y ,test_size = 10000, random_state=42)"
   ]
  },
  {
   "cell_type": "code",
   "execution_count": 10,
   "metadata": {},
   "outputs": [
    {
     "name": "stderr",
     "output_type": "stream",
     "text": [
      "C:\\Users\\Robin\\anaconda3\\lib\\site-packages\\sklearn\\svm\\_base.py:255: ConvergenceWarning: Solver terminated early (max_iter=50).  Consider pre-processing your data with StandardScaler or MinMaxScaler.\n",
      "  warnings.warn('Solver terminated early (max_iter=%i).'\n"
     ]
    },
    {
     "name": "stdout",
     "output_type": "stream",
     "text": [
      "0.7263\n",
      "0.729\n",
      "Wall time: 6min 59s\n"
     ]
    }
   ],
   "source": [
    "%%time\n",
    "clf_SVM = make_pipeline(StandardScaler(),SVC(C = 1.0, gamma='auto', kernel='rbf', max_iter = 50))\n",
    "clf_SVM.fit(X_train, y_train)\n",
    "\n",
    "y_train_pred = clf_SVM.predict(X_train)\n",
    "y_test_pred = clf_SVM.predict(X_test)\n",
    "\n",
    "print(accuracy_score(y_test, y_test_pred))\n",
    "print(accuracy_score(y_train, y_train_pred))"
   ]
  },
  {
   "cell_type": "code",
   "execution_count": 13,
   "metadata": {},
   "outputs": [
    {
     "name": "stderr",
     "output_type": "stream",
     "text": [
      "C:\\Users\\Robin\\anaconda3\\lib\\site-packages\\sklearn\\model_selection\\_search.py:918: UserWarning: One or more of the test scores are non-finite: [0.0987     0.0987     0.23826667 0.0987     0.0987     0.0987\n",
      " 0.0987     0.23826667 0.2379            nan]\n",
      "  warnings.warn(\n",
      "C:\\Users\\Robin\\anaconda3\\lib\\site-packages\\sklearn\\svm\\_base.py:255: ConvergenceWarning: Solver terminated early (max_iter=30).  Consider pre-processing your data with StandardScaler or MinMaxScaler.\n",
      "  warnings.warn('Solver terminated early (max_iter=%i).'\n"
     ]
    },
    {
     "name": "stdout",
     "output_type": "stream",
     "text": [
      "RandomizedSearchCV took 606.26 seconds for 10 candidate parameter settings.\n",
      "0.24246666666666666\n",
      "0.2459\n",
      "Wall time: 10min 33s\n"
     ]
    }
   ],
   "source": [
    "%%time\n",
    "from sklearn.model_selection import RandomizedSearchCV\n",
    "from time import time\n",
    "from sklearn.preprocessing import StandardScaler\n",
    "scaler = StandardScaler()\n",
    "scaler.fit(X)\n",
    "\n",
    "clf_svm = SVC(max_iter = 30, random_state = 42)\n",
    "\n",
    "# use a full grid over all parameters\n",
    "param_grid = {'C': np.linspace(0, 1, num=10),\n",
    "              'gamma': np.linspace(0.0005, 1.5, num=10)}\n",
    "\n",
    "# run grid search\n",
    "SVM_random_search = RandomizedSearchCV(estimator= clf_svm, param_distributions = param_grid, cv = 4, random_state=42, n_jobs=-1)\n",
    "start = time()\n",
    "SVM_random_search.fit(X_train, y_train)\n",
    "\n",
    "print(\"RandomizedSearchCV took %.2f seconds for %d candidate parameter settings.\"\n",
    "      % (time() - start, len(SVM_random_search.cv_results_['params'])))\n",
    "#report(SVM_random_search.cv_results_)\n",
    "\n",
    "y_pred_train = SVM_random_search.predict(X_train)\n",
    "y_pred_test = SVM_random_search.predict(X_test)\n",
    "\n",
    "print(accuracy_score(y_train, y_pred_train))\n",
    "print(accuracy_score(y_test, y_pred_test))\n"
   ]
  },
  {
   "cell_type": "markdown",
   "metadata": {},
   "source": [
    "### E1.2: Pipelines and simple Neural Networks\n",
    "Split the MNIST data into  train- and test-sets and then train and evaluate a simple Multi Layer Perceptron (MLP) network. Since the non-linear activation functions of MLPs are sensitive to the scaling on the input (recall the *sigmoid* function), we need to scale all input values to [0,1] \n",
    "\n",
    "* combine all steps of your training in a SKL pipeline (https://scikit-learn.org/stable/modules/compose.html#pipeline)\n",
    "* use a SKL-scaler to scale the data (https://scikit-learn.org/stable/modules/generated/sklearn.preprocessing.StandardScaler.html)\n",
    "* MLP Parameters: https://scikit-learn.org/stable/modules/generated/sklearn.neural_network.MLPClassifier.html#sklearn.neural_network.MLPClassifier\n",
    "    * use a *SGD* solver\n",
    "    * use *tanh* as activation function\n",
    "    * compare networks with 1, 2 and 3 layers, use different numbers of neurons per layer\n",
    "    * adjust training parameters *alpha* (regularization) and *learning rate* - how sensitive is the model to these parameters?\n",
    "    * Hint: do not change all parameters at the same time, split into several experiments\n",
    "* How hard is it to find the best parameters? How many experiments would you need to find the best parameters?\n",
    "    \n"
   ]
  },
  {
   "cell_type": "code",
   "execution_count": 49,
   "metadata": {},
   "outputs": [],
   "source": [
    "from sklearn.pipeline import make_pipeline\n",
    "from sklearn.svm import SVC\n",
    "from sklearn.decomposition import PCA\n",
    "from sklearn.preprocessing import StandardScaler\n",
    "from sklearn.neural_network import MLPClassifier\n",
    "from sklearn.datasets import make_classification\n",
    "from sklearn.model_selection import train_test_split\n",
    "from sklearn.metrics import r2_score\n",
    "\n",
    "X_train, X_test, y_train, y_test = train_test_split(X, y ,test_size = 10000, random_state=42)"
   ]
  },
  {
   "cell_type": "markdown",
   "metadata": {},
   "source": [
    "### Different Number of Layers"
   ]
  },
  {
   "cell_type": "code",
   "execution_count": 66,
   "metadata": {},
   "outputs": [
    {
     "name": "stdout",
     "output_type": "stream",
     "text": [
      "\n",
      "-----1 Layer-----\n",
      "Test score prediction :  0.8600650535386345\n",
      "Train score prediction :  0.9031336397278868\n",
      "\n",
      "-----2 Layer-----\n",
      "Test score prediction :  0.8824105933518355\n",
      "Train score prediction :  0.9244702651131514\n",
      "\n",
      "-----3 Layer-----\n",
      "Test score prediction :  0.880681685660936\n",
      "Train score prediction :  0.93557634443117\n",
      "Wall time: 3min 17s\n"
     ]
    }
   ],
   "source": [
    "%%time\n",
    "max_iterations = 50\n",
    "alpha = 0.001\n",
    "layers = 30\n",
    "\n",
    "import warnings\n",
    "warnings.filterwarnings('ignore')\n",
    "\n",
    "clf_MLP_1 = make_pipeline(StandardScaler(), MLPClassifier(solver = 'sgd', activation = 'tanh', hidden_layer_sizes = layers, alpha = alpha, max_iter=max_iterations, random_state=42))\n",
    "clf_MLP_1.fit(X_train, y_train)                       \n",
    "clf_MLP_2 = make_pipeline(StandardScaler(), MLPClassifier(solver = 'sgd', activation = 'tanh', hidden_layer_sizes = (layers,layers), alpha = alpha, max_iter=max_iterations, random_state=42))\n",
    "clf_MLP_2.fit(X_train, y_train)                          \n",
    "clf_MLP_3 = make_pipeline(StandardScaler(), MLPClassifier(solver = 'sgd', activation = 'tanh', hidden_layer_sizes = (layers,layers,layers), alpha = alpha, max_iter=max_iterations, random_state=42))\n",
    "clf_MLP_3.fit(X_train, y_train)\n",
    "\n",
    "\n",
    "#y_predprob_test_1 = clf_MLP_1.predict_proba(X_test)\n",
    "y_pred_test_1 = clf_MLP_1.predict(X_test)\n",
    "#y_predprob_train_1 = clf_MLP_1.predict_proba(X_train)\n",
    "y_pred_train_1 = clf_MLP_1.predict(X_train)\n",
    "\n",
    "#print(np.shape(y_test), np.shape(y_pred_test_1))\n",
    "\n",
    "print('\\n-----1 Layer-----')\n",
    "#print('Test score prediction probabilistic: ',r2_score(y_test, y_predprob_test_1))\n",
    "print('Test score prediction : ',r2_score(y_test, y_pred_test_1))\n",
    "#print('Test score prediction probabilistic: ',r2_score(y_train, y_predprob_train_1))\n",
    "print('Train score prediction : ',r2_score(y_train, y_pred_train_1))\n",
    "\n",
    "\n",
    "#y_predprob_test_2 = clf_MLP_2.predict_proba(X_test)\n",
    "y_pred_test_2 = clf_MLP_2.predict(X_test)\n",
    "#y_predprob_train_2 = clf_MLP_2.predict_proba(X_train)\n",
    "y_pred_train_2 = clf_MLP_2.predict(X_train)\n",
    "\n",
    "print('\\n-----2 Layer-----')\n",
    "#print('Test score prediction probabilistic: ',r2_score(y_test, y_predprob_test_2))\n",
    "print('Test score prediction : ',r2_score(y_test, y_pred_test_2))\n",
    "#print('Test score prediction probabilistic: ',r2_score(y_train, y_predprob_train_2))\n",
    "print('Train score prediction : ',r2_score(y_train, y_pred_train_2))\n",
    "\n",
    "\n",
    "#y_predprob_test_3 = clf_MLP_3.predict_proba(X_test)\n",
    "y_pred_test_3 = clf_MLP_3.predict(X_test)\n",
    "#y_predprob_train_3 = clf_MLP_3.predict_proba(X_train)\n",
    "y_pred_train_3 = clf_MLP_3.predict(X_train)\n",
    "\n",
    "print('\\n-----3 Layer-----')\n",
    "#print('Test score prediction probabilistic: ',r2_score(y_test, y_predprob_test_3))\n",
    "print('Test score prediction : ',r2_score(y_test, y_pred_test_3))\n",
    "#print('Test score prediction probabilistic: ',r2_score(y_train, y_predprob_train_3))\n",
    "print('Train score prediction : ',r2_score(y_train, y_pred_train_3))"
   ]
  },
  {
   "cell_type": "markdown",
   "metadata": {},
   "source": [
    "### Different Alpha"
   ]
  },
  {
   "cell_type": "code",
   "execution_count": 67,
   "metadata": {},
   "outputs": [
    {
     "name": "stdout",
     "output_type": "stream",
     "text": [
      "\n",
      "-----1 Layer-----\n",
      "Test score prediction :  0.8615808082265464\n",
      "Train score prediction :  0.901488516747554\n",
      "\n",
      "-----2 Layer-----\n",
      "Test score prediction :  0.8836895113697611\n",
      "Train score prediction :  0.9229470771289308\n",
      "\n",
      "-----3 Layer-----\n",
      "Test score prediction :  0.878858043302042\n",
      "Train score prediction :  0.9341670957056115\n",
      "Wall time: 4min 16s\n"
     ]
    }
   ],
   "source": [
    "%%time\n",
    "max_iterations = 50\n",
    "alpha = 0.1\n",
    "layers = 30\n",
    "\n",
    "import warnings\n",
    "warnings.filterwarnings('ignore')\n",
    "\n",
    "clf_MLP_1 = make_pipeline(StandardScaler(), MLPClassifier(solver = 'sgd', activation = 'tanh', hidden_layer_sizes = layers, alpha = alpha, max_iter=max_iterations, random_state=42))\n",
    "clf_MLP_1.fit(X_train, y_train)                       \n",
    "clf_MLP_2 = make_pipeline(StandardScaler(), MLPClassifier(solver = 'sgd', activation = 'tanh', hidden_layer_sizes = (layers,layers), alpha = alpha, max_iter=max_iterations, random_state=42))\n",
    "clf_MLP_2.fit(X_train, y_train)                          \n",
    "clf_MLP_3 = make_pipeline(StandardScaler(), MLPClassifier(solver = 'sgd', activation = 'tanh', hidden_layer_sizes = (layers,layers,layers), alpha = alpha, max_iter=max_iterations, random_state=42))\n",
    "clf_MLP_3.fit(X_train, y_train)\n",
    "\n",
    "\n",
    "#y_predprob_test_1 = clf_MLP_1.predict_proba(X_test)\n",
    "y_pred_test_1 = clf_MLP_1.predict(X_test)\n",
    "#y_predprob_train_1 = clf_MLP_1.predict_proba(X_train)\n",
    "y_pred_train_1 = clf_MLP_1.predict(X_train)\n",
    "\n",
    "#print(np.shape(y_test), np.shape(y_pred_test_1))\n",
    "\n",
    "print('\\n-----1 Layer-----')\n",
    "#print('Test score prediction probabilistic: ',r2_score(y_test, y_predprob_test_1))\n",
    "print('Test score prediction : ',r2_score(y_test, y_pred_test_1))\n",
    "#print('Test score prediction probabilistic: ',r2_score(y_train, y_predprob_train_1))\n",
    "print('Train score prediction : ',r2_score(y_train, y_pred_train_1))\n",
    "\n",
    "\n",
    "#y_predprob_test_2 = clf_MLP_2.predict_proba(X_test)\n",
    "y_pred_test_2 = clf_MLP_2.predict(X_test)\n",
    "#y_predprob_train_2 = clf_MLP_2.predict_proba(X_train)\n",
    "y_pred_train_2 = clf_MLP_2.predict(X_train)\n",
    "\n",
    "print('\\n-----2 Layer-----')\n",
    "#print('Test score prediction probabilistic: ',r2_score(y_test, y_predprob_test_2))\n",
    "print('Test score prediction : ',r2_score(y_test, y_pred_test_2))\n",
    "#print('Test score prediction probabilistic: ',r2_score(y_train, y_predprob_train_2))\n",
    "print('Train score prediction : ',r2_score(y_train, y_pred_train_2))\n",
    "\n",
    "\n",
    "#y_predprob_test_3 = clf_MLP_3.predict_proba(X_test)\n",
    "y_pred_test_3 = clf_MLP_3.predict(X_test)\n",
    "#y_predprob_train_3 = clf_MLP_3.predict_proba(X_train)\n",
    "y_pred_train_3 = clf_MLP_3.predict(X_train)\n",
    "\n",
    "print('\\n-----3 Layer-----')\n",
    "#print('Test score prediction probabilistic: ',r2_score(y_test, y_predprob_test_3))\n",
    "print('Test score prediction : ',r2_score(y_test, y_pred_test_3))\n",
    "#print('Test score prediction probabilistic: ',r2_score(y_train, y_predprob_train_3))\n",
    "print('Train score prediction : ',r2_score(y_train, y_pred_train_3))"
   ]
  },
  {
   "cell_type": "markdown",
   "metadata": {},
   "source": [
    "### Different learning rate\n",
    "#### invscaling"
   ]
  },
  {
   "cell_type": "code",
   "execution_count": 68,
   "metadata": {},
   "outputs": [
    {
     "name": "stdout",
     "output_type": "stream",
     "text": [
      "\n",
      "-----1 Layer-----\n",
      "Test score prediction :  0.6829112243889324\n",
      "Train score prediction :  0.6742596530910101\n",
      "\n",
      "-----2 Layer-----\n",
      "Test score prediction :  0.6038077766135307\n",
      "Train score prediction :  0.6058381287971915\n",
      "\n",
      "-----3 Layer-----\n",
      "Test score prediction :  0.5585956563131589\n",
      "Train score prediction :  0.5601005116489586\n",
      "Wall time: 4min 10s\n"
     ]
    }
   ],
   "source": [
    "%%time\n",
    "max_iterations = 50\n",
    "alpha = 0.1\n",
    "layers = 30\n",
    "learning_rate = 'invscaling'\n",
    "\n",
    "import warnings\n",
    "warnings.filterwarnings('ignore')\n",
    "\n",
    "clf_MLP_1 = make_pipeline(StandardScaler(), MLPClassifier(solver = 'sgd', activation = 'tanh', hidden_layer_sizes = layers, alpha = alpha, max_iter=max_iterations, random_state=42, learning_rate=learning_rate))\n",
    "clf_MLP_1.fit(X_train, y_train)                       \n",
    "clf_MLP_2 = make_pipeline(StandardScaler(), MLPClassifier(solver = 'sgd', activation = 'tanh', hidden_layer_sizes = (layers,layers), alpha = alpha, max_iter=max_iterations, random_state=42,learning_rate=learning_rate))\n",
    "clf_MLP_2.fit(X_train, y_train)                          \n",
    "clf_MLP_3 = make_pipeline(StandardScaler(), MLPClassifier(solver = 'sgd', activation = 'tanh', hidden_layer_sizes = (layers,layers,layers), alpha = alpha, max_iter=max_iterations, random_state=42,learning_rate=learning_rate))\n",
    "clf_MLP_3.fit(X_train, y_train)\n",
    "\n",
    "\n",
    "#y_predprob_test_1 = clf_MLP_1.predict_proba(X_test)\n",
    "y_pred_test_1 = clf_MLP_1.predict(X_test)\n",
    "#y_predprob_train_1 = clf_MLP_1.predict_proba(X_train)\n",
    "y_pred_train_1 = clf_MLP_1.predict(X_train)\n",
    "\n",
    "#print(np.shape(y_test), np.shape(y_pred_test_1))\n",
    "\n",
    "print('\\n-----1 Layer-----')\n",
    "#print('Test score prediction probabilistic: ',r2_score(y_test, y_predprob_test_1))\n",
    "print('Test score prediction : ',r2_score(y_test, y_pred_test_1))\n",
    "#print('Test score prediction probabilistic: ',r2_score(y_train, y_predprob_train_1))\n",
    "print('Train score prediction : ',r2_score(y_train, y_pred_train_1))\n",
    "\n",
    "\n",
    "#y_predprob_test_2 = clf_MLP_2.predict_proba(X_test)\n",
    "y_pred_test_2 = clf_MLP_2.predict(X_test)\n",
    "#y_predprob_train_2 = clf_MLP_2.predict_proba(X_train)\n",
    "y_pred_train_2 = clf_MLP_2.predict(X_train)\n",
    "\n",
    "print('\\n-----2 Layer-----')\n",
    "#print('Test score prediction probabilistic: ',r2_score(y_test, y_predprob_test_2))\n",
    "print('Test score prediction : ',r2_score(y_test, y_pred_test_2))\n",
    "#print('Test score prediction probabilistic: ',r2_score(y_train, y_predprob_train_2))\n",
    "print('Train score prediction : ',r2_score(y_train, y_pred_train_2))\n",
    "\n",
    "\n",
    "#y_predprob_test_3 = clf_MLP_3.predict_proba(X_test)\n",
    "y_pred_test_3 = clf_MLP_3.predict(X_test)\n",
    "#y_predprob_train_3 = clf_MLP_3.predict_proba(X_train)\n",
    "y_pred_train_3 = clf_MLP_3.predict(X_train)\n",
    "\n",
    "print('\\n-----3 Layer-----')\n",
    "#print('Test score prediction probabilistic: ',r2_score(y_test, y_predprob_test_3))\n",
    "print('Test score prediction : ',r2_score(y_test, y_pred_test_3))\n",
    "#print('Test score prediction probabilistic: ',r2_score(y_train, y_predprob_train_3))\n",
    "print('Train score prediction : ',r2_score(y_train, y_pred_train_3))"
   ]
  },
  {
   "cell_type": "markdown",
   "metadata": {},
   "source": [
    "#### adaptive"
   ]
  },
  {
   "cell_type": "code",
   "execution_count": 72,
   "metadata": {},
   "outputs": [
    {
     "name": "stdout",
     "output_type": "stream",
     "text": [
      "\n",
      "-----1 Layer-----\n",
      "Test score prediction :  0.8615808082265464\n",
      "Train score prediction :  0.901488516747554\n",
      "\n",
      "-----2 Layer-----\n",
      "Test score prediction :  0.8836895113697611\n",
      "Train score prediction :  0.9229470771289308\n",
      "\n",
      "-----3 Layer-----\n",
      "Test score prediction :  0.878858043302042\n",
      "Train score prediction :  0.9341670957056115\n",
      "Wall time: 4min 24s\n"
     ]
    }
   ],
   "source": [
    "%%time\n",
    "max_iterations = 50\n",
    "alpha = 0.1\n",
    "layers = 30\n",
    "learning_rate = 'adaptive'\n",
    "\n",
    "import warnings\n",
    "warnings.filterwarnings('ignore')\n",
    "\n",
    "clf_MLP_1 = make_pipeline(StandardScaler(), MLPClassifier(solver = 'sgd', activation = 'tanh', hidden_layer_sizes = layers, alpha = alpha, max_iter=max_iterations, random_state=42, learning_rate=learning_rate))\n",
    "clf_MLP_1.fit(X_train, y_train)                       \n",
    "clf_MLP_2 = make_pipeline(StandardScaler(), MLPClassifier(solver = 'sgd', activation = 'tanh', hidden_layer_sizes = (layers,layers), alpha = alpha, max_iter=max_iterations, random_state=42,learning_rate=learning_rate))\n",
    "clf_MLP_2.fit(X_train, y_train)                          \n",
    "clf_MLP_3 = make_pipeline(StandardScaler(), MLPClassifier(solver = 'sgd', activation = 'tanh', hidden_layer_sizes = (layers,layers,layers), alpha = alpha, max_iter=max_iterations, random_state=42,learning_rate=learning_rate))\n",
    "clf_MLP_3.fit(X_train, y_train)\n",
    "\n",
    "\n",
    "#y_predprob_test_1 = clf_MLP_1.predict_proba(X_test)\n",
    "y_pred_test_1 = clf_MLP_1.predict(X_test)\n",
    "#y_predprob_train_1 = clf_MLP_1.predict_proba(X_train)\n",
    "y_pred_train_1 = clf_MLP_1.predict(X_train)\n",
    "\n",
    "#print(np.shape(y_test), np.shape(y_pred_test_1))\n",
    "\n",
    "print('\\n-----1 Layer-----')\n",
    "#print('Test score prediction probabilistic: ',r2_score(y_test, y_predprob_test_1))\n",
    "print('Test score prediction : ',r2_score(y_test, y_pred_test_1))\n",
    "#print('Test score prediction probabilistic: ',r2_score(y_train, y_predprob_train_1))\n",
    "print('Train score prediction : ',r2_score(y_train, y_pred_train_1))\n",
    "\n",
    "\n",
    "#y_predprob_test_2 = clf_MLP_2.predict_proba(X_test)\n",
    "y_pred_test_2 = clf_MLP_2.predict(X_test)\n",
    "#y_predprob_train_2 = clf_MLP_2.predict_proba(X_train)\n",
    "y_pred_train_2 = clf_MLP_2.predict(X_train)\n",
    "\n",
    "print('\\n-----2 Layer-----')\n",
    "#print('Test score prediction probabilistic: ',r2_score(y_test, y_predprob_test_2))\n",
    "print('Test score prediction : ',r2_score(y_test, y_pred_test_2))\n",
    "#print('Test score prediction probabilistic: ',r2_score(y_train, y_predprob_train_2))\n",
    "print('Train score prediction : ',r2_score(y_train, y_pred_train_2))\n",
    "\n",
    "\n",
    "#y_predprob_test_3 = clf_MLP_3.predict_proba(X_test)\n",
    "y_pred_test_3 = clf_MLP_3.predict(X_test)\n",
    "#y_predprob_train_3 = clf_MLP_3.predict_proba(X_train)\n",
    "y_pred_train_3 = clf_MLP_3.predict(X_train)\n",
    "\n",
    "print('\\n-----3 Layer-----')\n",
    "#print('Test score prediction probabilistic: ',r2_score(y_test, y_predprob_test_3))\n",
    "print('Test score prediction : ',r2_score(y_test, y_pred_test_3))\n",
    "#print('Test score prediction probabilistic: ',r2_score(y_train, y_predprob_train_3))\n",
    "print('Train score prediction : ',r2_score(y_train, y_pred_train_3))"
   ]
  },
  {
   "cell_type": "code",
   "execution_count": null,
   "metadata": {},
   "outputs": [],
   "source": []
  }
 ],
 "metadata": {
  "kernelspec": {
   "display_name": "Python 3",
   "language": "python",
   "name": "python3"
  },
  "language_info": {
   "codemirror_mode": {
    "name": "ipython",
    "version": 3
   },
   "file_extension": ".py",
   "mimetype": "text/x-python",
   "name": "python",
   "nbconvert_exporter": "python",
   "pygments_lexer": "ipython3",
   "version": "3.8.5"
  }
 },
 "nbformat": 4,
 "nbformat_minor": 4
}
