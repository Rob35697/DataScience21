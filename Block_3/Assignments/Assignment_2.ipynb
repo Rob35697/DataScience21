{
 "cells": [
  {
   "cell_type": "markdown",
   "metadata": {},
   "source": [
    "# Ex2 - GroupBy"
   ]
  },
  {
   "cell_type": "markdown",
   "metadata": {},
   "source": [
    "### Step 1. Import the necessary libraries"
   ]
  },
  {
   "cell_type": "code",
   "execution_count": 2,
   "metadata": {
    "collapsed": false,
    "jupyter": {
     "outputs_hidden": false
    }
   },
   "outputs": [],
   "source": [
    "import pandas as pd\n",
    "import matplotlib\n",
    "import numpy as np"
   ]
  },
  {
   "cell_type": "markdown",
   "metadata": {},
   "source": [
    "### Step 2. \n",
    "User ***Jupyter Lab*** to view ``../../DATA/drinks.cvs``."
   ]
  },
  {
   "cell_type": "markdown",
   "metadata": {},
   "source": [
    "### Step 3. Assign it to a variable called drinks."
   ]
  },
  {
   "cell_type": "code",
   "execution_count": 3,
   "metadata": {
    "collapsed": false,
    "jupyter": {
     "outputs_hidden": false
    }
   },
   "outputs": [
    {
     "data": {
      "text/html": [
       "<div>\n",
       "<style scoped>\n",
       "    .dataframe tbody tr th:only-of-type {\n",
       "        vertical-align: middle;\n",
       "    }\n",
       "\n",
       "    .dataframe tbody tr th {\n",
       "        vertical-align: top;\n",
       "    }\n",
       "\n",
       "    .dataframe thead th {\n",
       "        text-align: right;\n",
       "    }\n",
       "</style>\n",
       "<table border=\"1\" class=\"dataframe\">\n",
       "  <thead>\n",
       "    <tr style=\"text-align: right;\">\n",
       "      <th></th>\n",
       "      <th>country</th>\n",
       "      <th>beer_servings</th>\n",
       "      <th>spirit_servings</th>\n",
       "      <th>wine_servings</th>\n",
       "      <th>total_litres_of_pure_alcohol</th>\n",
       "      <th>continent</th>\n",
       "    </tr>\n",
       "  </thead>\n",
       "  <tbody>\n",
       "    <tr>\n",
       "      <th>0</th>\n",
       "      <td>Afghanistan</td>\n",
       "      <td>0</td>\n",
       "      <td>0</td>\n",
       "      <td>0</td>\n",
       "      <td>0.0</td>\n",
       "      <td>AS</td>\n",
       "    </tr>\n",
       "    <tr>\n",
       "      <th>1</th>\n",
       "      <td>Albania</td>\n",
       "      <td>89</td>\n",
       "      <td>132</td>\n",
       "      <td>54</td>\n",
       "      <td>4.9</td>\n",
       "      <td>EU</td>\n",
       "    </tr>\n",
       "    <tr>\n",
       "      <th>2</th>\n",
       "      <td>Algeria</td>\n",
       "      <td>25</td>\n",
       "      <td>0</td>\n",
       "      <td>14</td>\n",
       "      <td>0.7</td>\n",
       "      <td>AF</td>\n",
       "    </tr>\n",
       "    <tr>\n",
       "      <th>3</th>\n",
       "      <td>Andorra</td>\n",
       "      <td>245</td>\n",
       "      <td>138</td>\n",
       "      <td>312</td>\n",
       "      <td>12.4</td>\n",
       "      <td>EU</td>\n",
       "    </tr>\n",
       "    <tr>\n",
       "      <th>4</th>\n",
       "      <td>Angola</td>\n",
       "      <td>217</td>\n",
       "      <td>57</td>\n",
       "      <td>45</td>\n",
       "      <td>5.9</td>\n",
       "      <td>AF</td>\n",
       "    </tr>\n",
       "  </tbody>\n",
       "</table>\n",
       "</div>"
      ],
      "text/plain": [
       "       country  beer_servings  spirit_servings  wine_servings  \\\n",
       "0  Afghanistan              0                0              0   \n",
       "1      Albania             89              132             54   \n",
       "2      Algeria             25                0             14   \n",
       "3      Andorra            245              138            312   \n",
       "4       Angola            217               57             45   \n",
       "\n",
       "   total_litres_of_pure_alcohol continent  \n",
       "0                           0.0        AS  \n",
       "1                           4.9        EU  \n",
       "2                           0.7        AF  \n",
       "3                          12.4        EU  \n",
       "4                           5.9        AF  "
      ]
     },
     "execution_count": 3,
     "metadata": {},
     "output_type": "execute_result"
    }
   ],
   "source": [
    "drinks = pd.read_csv('../../DATA/drinks.csv')\n",
    "drinks.head()"
   ]
  },
  {
   "cell_type": "markdown",
   "metadata": {},
   "source": [
    "### Step 4. Which continent drinks the most beer on average?"
   ]
  },
  {
   "cell_type": "code",
   "execution_count": 33,
   "metadata": {
    "collapsed": false,
    "jupyter": {
     "outputs_hidden": false
    }
   },
   "outputs": [
    {
     "data": {
      "text/plain": [
       "continent\n",
       "SA    12\n",
       "OC    16\n",
       "AS    44\n",
       "EU    45\n",
       "AF    53\n",
       "dtype: int64"
      ]
     },
     "execution_count": 33,
     "metadata": {},
     "output_type": "execute_result"
    }
   ],
   "source": [
    "group_continents = drinks.groupby('continent')\n",
    "group_continents.size().sort_values()"
   ]
  },
  {
   "cell_type": "code",
   "execution_count": 56,
   "metadata": {
    "collapsed": false,
    "jupyter": {
     "outputs_hidden": false
    }
   },
   "outputs": [
    {
     "data": {
      "text/plain": [
       "37.04545454545455"
      ]
     },
     "execution_count": 56,
     "metadata": {},
     "output_type": "execute_result"
    }
   ],
   "source": [
    "AS = group_continents.get_group('AS')\n",
    "AS.beer_servings.mean()"
   ]
  },
  {
   "cell_type": "code",
   "execution_count": 57,
   "metadata": {
    "collapsed": false,
    "jupyter": {
     "outputs_hidden": false
    }
   },
   "outputs": [
    {
     "data": {
      "text/plain": [
       "193.77777777777777"
      ]
     },
     "execution_count": 57,
     "metadata": {},
     "output_type": "execute_result"
    }
   ],
   "source": [
    "EU = group_continents.get_group('EU')\n",
    "EU.beer_servings.mean()"
   ]
  },
  {
   "cell_type": "code",
   "execution_count": 58,
   "metadata": {
    "collapsed": false,
    "jupyter": {
     "outputs_hidden": false
    }
   },
   "outputs": [
    {
     "data": {
      "text/plain": [
       "61.471698113207545"
      ]
     },
     "execution_count": 58,
     "metadata": {},
     "output_type": "execute_result"
    }
   ],
   "source": [
    "AF = group_continents.get_group('AF')\n",
    "AF.beer_servings.mean()"
   ]
  },
  {
   "cell_type": "code",
   "execution_count": 59,
   "metadata": {
    "collapsed": false,
    "jupyter": {
     "outputs_hidden": false
    }
   },
   "outputs": [
    {
     "data": {
      "text/plain": [
       "175.08333333333334"
      ]
     },
     "execution_count": 59,
     "metadata": {},
     "output_type": "execute_result"
    }
   ],
   "source": [
    "SA = group_continents.get_group('SA')\n",
    "SA.beer_servings.mean()"
   ]
  },
  {
   "cell_type": "code",
   "execution_count": 60,
   "metadata": {
    "collapsed": false,
    "jupyter": {
     "outputs_hidden": false
    }
   },
   "outputs": [
    {
     "data": {
      "text/plain": [
       "89.6875"
      ]
     },
     "execution_count": 60,
     "metadata": {},
     "output_type": "execute_result"
    }
   ],
   "source": [
    "OC = group_continents.get_group('OC')\n",
    "OC.beer_servings.mean()"
   ]
  },
  {
   "cell_type": "markdown",
   "metadata": {},
   "source": [
    "### Step 5. For each continent print the statistics for wine consumption."
   ]
  },
  {
   "cell_type": "code",
   "execution_count": 53,
   "metadata": {
    "collapsed": false,
    "jupyter": {
     "outputs_hidden": false
    }
   },
   "outputs": [
    {
     "name": "stdout",
     "output_type": "stream",
     "text": [
      "Asia wine consumotion\n",
      " count     44.000000\n",
      "mean       9.068182\n",
      "std       21.667034\n",
      "min        0.000000\n",
      "25%        0.000000\n",
      "50%        1.000000\n",
      "75%        8.000000\n",
      "max      123.000000\n",
      "Name: wine_servings, dtype: float64 \n",
      "\n",
      "Europe wine consumotion\n",
      " count     45.000000\n",
      "mean     142.222222\n",
      "std       97.421738\n",
      "min        0.000000\n",
      "25%       59.000000\n",
      "50%      128.000000\n",
      "75%      195.000000\n",
      "max      370.000000\n",
      "Name: wine_servings, dtype: float64 \n",
      "\n",
      "Africa wine consumotion\n",
      " count     53.000000\n",
      "mean      16.264151\n",
      "std       38.846419\n",
      "min        0.000000\n",
      "25%        1.000000\n",
      "50%        2.000000\n",
      "75%       13.000000\n",
      "max      233.000000\n",
      "Name: wine_servings, dtype: float64 \n",
      "\n",
      "South America wine consumotion\n",
      " count     12.000000\n",
      "mean      62.416667\n",
      "std       88.620189\n",
      "min        1.000000\n",
      "25%        3.000000\n",
      "50%       12.000000\n",
      "75%       98.500000\n",
      "max      221.000000\n",
      "Name: wine_servings, dtype: float64 \n",
      "\n",
      "Oceania wine consumotion\n",
      "        beer_servings  spirit_servings  wine_servings  \\\n",
      "count      16.000000        16.000000       16.00000   \n",
      "mean       89.687500        58.437500       35.62500   \n",
      "std        96.641412        70.504817       64.55579   \n",
      "min         0.000000         0.000000        0.00000   \n",
      "25%        21.000000        18.000000        1.00000   \n",
      "50%        52.500000        37.000000        8.50000   \n",
      "75%       125.750000        65.250000       23.25000   \n",
      "max       306.000000       254.000000      212.00000   \n",
      "\n",
      "       total_litres_of_pure_alcohol  \n",
      "count                     16.000000  \n",
      "mean                       3.381250  \n",
      "std                        3.345688  \n",
      "min                        0.000000  \n",
      "25%                        1.000000  \n",
      "50%                        1.750000  \n",
      "75%                        6.150000  \n",
      "max                       10.400000  \n"
     ]
    }
   ],
   "source": [
    "print('Asia wine consumotion\\n',AS.wine_servings.describe(),'\\n')\n",
    "print('Europe wine consumotion\\n',EU.wine_servings.describe(),'\\n')\n",
    "print('Africa wine consumotion\\n',AF.wine_servings.describe(),'\\n')\n",
    "print('South America wine consumotion\\n',SA.wine_servings.describe(),'\\n')\n",
    "print('Oceania wine consumotion\\n',OC.wine_servings.describe(),'\\n')"
   ]
  },
  {
   "cell_type": "markdown",
   "metadata": {},
   "source": [
    "### Step 6. Print the mean alcoohol consumption per continent for every column"
   ]
  },
  {
   "cell_type": "code",
   "execution_count": 54,
   "metadata": {
    "collapsed": false,
    "jupyter": {
     "outputs_hidden": false
    }
   },
   "outputs": [
    {
     "name": "stdout",
     "output_type": "stream",
     "text": [
      "Asia mean alcohol consumotion\n",
      " beer_servings                   37.045455\n",
      "spirit_servings                 60.840909\n",
      "wine_servings                    9.068182\n",
      "total_litres_of_pure_alcohol     2.170455\n",
      "dtype: float64 \n",
      "\n",
      "Europe mean alcohol consumotion\n",
      " beer_servings                   193.777778\n",
      "spirit_servings                 132.555556\n",
      "wine_servings                   142.222222\n",
      "total_litres_of_pure_alcohol      8.617778\n",
      "dtype: float64 \n",
      "\n",
      "Africa mean alcohol consumotion\n",
      " beer_servings                   61.471698\n",
      "spirit_servings                 16.339623\n",
      "wine_servings                   16.264151\n",
      "total_litres_of_pure_alcohol     3.007547\n",
      "dtype: float64 \n",
      "\n",
      "South mean alcohol wine consumotion\n",
      " beer_servings                   175.083333\n",
      "spirit_servings                 114.750000\n",
      "wine_servings                    62.416667\n",
      "total_litres_of_pure_alcohol      6.308333\n",
      "dtype: float64 \n",
      "\n",
      "Oceania mean alcohol consumotion\n",
      " beer_servings                   89.68750\n",
      "spirit_servings                 58.43750\n",
      "wine_servings                   35.62500\n",
      "total_litres_of_pure_alcohol     3.38125\n",
      "dtype: float64 \n",
      "\n"
     ]
    }
   ],
   "source": [
    "print('Asia mean alcohol consumotion\\n',AS.mean(),'\\n')\n",
    "print('Europe mean alcohol consumotion\\n',EU.mean(),'\\n')\n",
    "print('Africa mean alcohol consumotion\\n',AF.mean(),'\\n')\n",
    "print('South mean alcohol wine consumotion\\n',SA.mean(),'\\n')\n",
    "print('Oceania mean alcohol consumotion\\n',OC.mean(),'\\n')"
   ]
  },
  {
   "cell_type": "markdown",
   "metadata": {},
   "source": [
    "### Step 7. Print the median alcoohol consumption per continent for every column"
   ]
  },
  {
   "cell_type": "code",
   "execution_count": 55,
   "metadata": {
    "collapsed": false,
    "jupyter": {
     "outputs_hidden": false
    }
   },
   "outputs": [
    {
     "name": "stdout",
     "output_type": "stream",
     "text": [
      "Asia mean alcohol consumotion\n",
      " beer_servings                   17.5\n",
      "spirit_servings                 16.0\n",
      "wine_servings                    1.0\n",
      "total_litres_of_pure_alcohol     1.2\n",
      "dtype: float64 \n",
      "\n",
      "Europe mean alcohol consumotion\n",
      " beer_servings                   219.0\n",
      "spirit_servings                 122.0\n",
      "wine_servings                   128.0\n",
      "total_litres_of_pure_alcohol     10.0\n",
      "dtype: float64 \n",
      "\n",
      "Africa mean alcohol consumotion\n",
      " beer_servings                   32.0\n",
      "spirit_servings                  3.0\n",
      "wine_servings                    2.0\n",
      "total_litres_of_pure_alcohol     2.3\n",
      "dtype: float64 \n",
      "\n",
      "South mean alcohol wine consumotion\n",
      " beer_servings                   162.50\n",
      "spirit_servings                 108.50\n",
      "wine_servings                    12.00\n",
      "total_litres_of_pure_alcohol      6.85\n",
      "dtype: float64 \n",
      "\n",
      "Oceania mean alcohol consumotion\n",
      " beer_servings                   52.50\n",
      "spirit_servings                 37.00\n",
      "wine_servings                    8.50\n",
      "total_litres_of_pure_alcohol     1.75\n",
      "dtype: float64 \n",
      "\n"
     ]
    }
   ],
   "source": [
    "print('Asia mean alcohol consumotion\\n',AS.median(),'\\n')\n",
    "print('Europe mean alcohol consumotion\\n',EU.median(),'\\n')\n",
    "print('Africa mean alcohol consumotion\\n',AF.median(),'\\n')\n",
    "print('South mean alcohol wine consumotion\\n',SA.median(),'\\n')\n",
    "print('Oceania mean alcohol consumotion\\n',OC.median(),'\\n')"
   ]
  },
  {
   "cell_type": "markdown",
   "metadata": {},
   "source": [
    "### Step 8. Print the mean, min and max values for spirit consumption.\n",
    "#### This time output a DataFrame"
   ]
  },
  {
   "cell_type": "code",
   "execution_count": null,
   "metadata": {
    "collapsed": false,
    "jupyter": {
     "outputs_hidden": false
    }
   },
   "outputs": [],
   "source": []
  },
  {
   "cell_type": "code",
   "execution_count": null,
   "metadata": {},
   "outputs": [],
   "source": []
  },
  {
   "cell_type": "code",
   "execution_count": null,
   "metadata": {},
   "outputs": [],
   "source": []
  }
 ],
 "metadata": {
  "kernelspec": {
   "display_name": "Python 3",
   "language": "python",
   "name": "python3"
  },
  "language_info": {
   "codemirror_mode": {
    "name": "ipython",
    "version": 3
   },
   "file_extension": ".py",
   "mimetype": "text/x-python",
   "name": "python",
   "nbconvert_exporter": "python",
   "pygments_lexer": "ipython3",
   "version": "3.8.5"
  }
 },
 "nbformat": 4,
 "nbformat_minor": 4
}
